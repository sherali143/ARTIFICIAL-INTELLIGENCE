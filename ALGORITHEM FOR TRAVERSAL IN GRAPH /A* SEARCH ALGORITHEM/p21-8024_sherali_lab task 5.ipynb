{
 "cells": [
  {
   "cell_type": "code",
   "execution_count": 5,
   "id": "06a2f0f3-b701-4745-aef7-169a5244a0b8",
   "metadata": {},
   "outputs": [
    {
     "name": "stdin",
     "output_type": "stream",
     "text": [
      "Enter the source city:  Agra\n",
      "Enter the destination city:  Goa\n"
     ]
    },
    {
     "name": "stdout",
     "output_type": "stream",
     "text": [
      "Recommended path: Agra -> Delhi -> Bengaluru -> Goa\n",
      "Total distance: 2979 km\n"
     ]
    }
   ],
   "source": [
    "import csv\n",
    "import networkx as nx\n",
    "import math\n",
    "import queue\n",
    "\n",
    "def straight_line_distance(city1, city2, distances):\n",
    "    if city1 in distances and city2 in distances[city1]:\n",
    "        return distances[city1][city2]\n",
    "    else:\n",
    "        return math.inf  # Return infinity if the distance is not found\n",
    "\n",
    "def astar(graph, start, goal, distances):\n",
    "    visited = set()\n",
    "    pri_queue = queue.PriorityQueue()  # Priority queue\n",
    "    pri_queue.put((0 + straight_line_distance(start, goal, distances), [start]))  # Initial state: f = g + h = 0 + heuristic\n",
    "\n",
    "    while not pri_queue.empty():\n",
    "        f, current_path = pri_queue.get()\n",
    "        current_node = current_path[-1]\n",
    "\n",
    "        if current_node == goal:\n",
    "            return current_path  # Goal found\n",
    "\n",
    "        visited.add(current_node)\n",
    "        \n",
    "        for neighbor in graph[current_node]:\n",
    "            if neighbor not in visited:\n",
    "                new_path = current_path + [neighbor]  # Include neighbor in the current path\n",
    "                g = sum(distances[new_path[i]][new_path[i + 1]] for i in range(len(new_path) - 1))  # Calculate g for the new path\n",
    "                pri_queue.put((g + straight_line_distance(neighbor, goal, distances), new_path))\n",
    "\n",
    "    return []  # Goal not found\n",
    "\n",
    "# Read the CSV file to create a graph\n",
    "distances = {}\n",
    "with open('/home/sherali/Desktop/lab task 5/indian-cities-dataset.csv', mode='r') as file:\n",
    "    reader = csv.reader(file)\n",
    "    next(reader)  # Skip the header row\n",
    "    for row in reader:\n",
    "        city1, city2, distance = row\n",
    "        distance = int(distance)\n",
    "        if city1 not in distances:\n",
    "            distances[city1] = {}\n",
    "        if city2 not in distances:\n",
    "            distances[city2] = {}\n",
    "        distances[city1][city2] = distance\n",
    "        distances[city2][city1] = distance\n",
    "\n",
    "# Create a graph from the city distance data\n",
    "G = nx.Graph()\n",
    "for city in distances:\n",
    "    G.add_node(city)\n",
    "    for neighbor, distance in distances[city].items():\n",
    "        G.add_edge(city, neighbor, weight=distance)\n",
    "\n",
    "# Get user input for source and destination cities\n",
    "start_city = input(\"Enter the source city: \")\n",
    "goal_city = input(\"Enter the destination city: \")\n",
    "\n",
    "# Check if the start and goal cities exist in the distances dictionary\n",
    "if start_city not in distances or goal_city not in distances:\n",
    "    print(\"Source or destination city not found in the data.\")\n",
    "else:\n",
    "    path = astar(G, start_city, goal_city, distances)\n",
    "    if path:\n",
    "        print(\"Recommended path:\", ' -> '.join(path))\n",
    "        total_distance = sum(distances[path[i]][path[i + 1]] for i in range(len(path) - 1))\n",
    "        print(\"Total distance:\", total_distance, \"km\")\n",
    "    else:\n",
    "        print(\"No path found between the source and destination cities.\")\n"
   ]
  },
  {
   "cell_type": "code",
   "execution_count": null,
   "id": "264bcbde-62d5-417b-bdc7-0a981b2cb1f6",
   "metadata": {},
   "outputs": [],
   "source": []
  },
  {
   "cell_type": "code",
   "execution_count": null,
   "id": "96a3be74-27a8-4999-bc7f-ef640ed33bcb",
   "metadata": {},
   "outputs": [],
   "source": []
  }
 ],
 "metadata": {
  "kernelspec": {
   "display_name": "Python 3 (ipykernel)",
   "language": "python",
   "name": "python3"
  },
  "language_info": {
   "codemirror_mode": {
    "name": "ipython",
    "version": 3
   },
   "file_extension": ".py",
   "mimetype": "text/x-python",
   "name": "python",
   "nbconvert_exporter": "python",
   "pygments_lexer": "ipython3",
   "version": "3.10.12"
  }
 },
 "nbformat": 4,
 "nbformat_minor": 5
}
