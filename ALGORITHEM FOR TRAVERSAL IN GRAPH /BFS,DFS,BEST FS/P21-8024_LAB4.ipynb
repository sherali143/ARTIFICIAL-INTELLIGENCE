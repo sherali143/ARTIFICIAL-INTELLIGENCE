{
 "cells": [
  {
   "cell_type": "code",
   "execution_count": 21,
   "id": "df25c824-c1a7-4df6-8685-12386a3fa48f",
   "metadata": {},
   "outputs": [
    {
     "name": "stdin",
     "output_type": "stream",
     "text": [
      "Enter the Search Algorithm (1 FOR BFS)(2 FOR DFS)(3 FOR BEST FS):  3\n",
      "Enter the Start Node:  B\n",
      "Enter the Goal Node:  G\n"
     ]
    },
    {
     "name": "stdout",
     "output_type": "stream",
     "text": [
      "Path from B to G found: B -> C -> E -> G\n"
     ]
    },
    {
     "data": {
      "text/plain": [
       "{('A', 'B'): Text(0.062289153313982, -0.33057410636263784, '5'),\n",
       " ('B', 'C'): Text(-0.10125820457478946, -0.004445184511451872, '3'),\n",
       " ('B', 'D'): Text(0.39806800009426246, -0.21257515750084416, '2'),\n",
       " ('C', 'E'): Text(-0.47323848732694573, 0.2985402715696013, '4'),\n",
       " ('D', 'F'): Text(0.8470291900630655, -0.2757629033078789, '6'),\n",
       " ('E', 'G'): Text(-0.7570213287710617, 0.5242388757720658, '7')}"
      ]
     },
     "execution_count": 21,
     "metadata": {},
     "output_type": "execute_result"
    },
    {
     "data": {
      "image/png": "[encoded data removed]",
      "text/plain": [
       "<Figure size 640x480 with 1 Axes>"
      ]
     },
     "metadata": {},
     "output_type": "display_data"
    }
   ],
   "source": [
    "# NAME:SHERALI\n",
    "# ROLL NO: P21-8024\n",
    "\n",
    "import networkx as nx\n",
    "from collections import deque\n",
    "import math\n",
    "import queue\n",
    "\n",
    "def bfs(graph, start, goal):\n",
    "    visited = set()\n",
    "    queue = deque([(start, [start])])\n",
    "    while queue:\n",
    "        node, path = queue.popleft()\n",
    "        if node == goal:\n",
    "            return path\n",
    "        visited.add(node)\n",
    "        for neighbor in graph.neighbors(node):\n",
    "            if neighbor not in visited:\n",
    "                queue.append((neighbor, path + [neighbor]))\n",
    "    return None\n",
    "\n",
    "def dfs(graph, start, goal):\n",
    "    visited = set()\n",
    "    \n",
    "    def dfs_recursive(node, path):\n",
    "        if node == goal:\n",
    "            return path\n",
    "        visited.add(node)\n",
    "\n",
    "        for neighbor in graph.neighbors(node):\n",
    "            if neighbor not in visited:\n",
    "                new_path = dfs_recursive(neighbor, path + [neighbor])\n",
    "                if new_path:\n",
    "                    return new_path\n",
    "        return None\n",
    "    return dfs_recursive(start, [start])\n",
    "\n",
    "def euclidean_distance(node1, node2, pos):\n",
    "    x1, y1 = pos[node1]\n",
    "    x2, y2 = pos[node2]\n",
    "    return math.sqrt((x2 - x1)**2 + (y2 - y1)**2)\n",
    "\n",
    "def best_first_search(graph, start, goal, heuristic):\n",
    "    visited = set()\n",
    "    pri_queue = queue.PriorityQueue()  # Priority queue\n",
    "    pri_queue.put((heuristic[start], [start]))  # Initial state\n",
    "\n",
    "    while not pri_queue.empty():\n",
    "        heuristic_current, current_path = pri_queue.get()\n",
    "        current_node = current_path[-1]\n",
    "\n",
    "        if current_node == goal:\n",
    "            return current_path  # Goal found\n",
    "\n",
    "        visited.add(current_node)\n",
    "\n",
    "        for neighbor in graph.neighbors(current_node):\n",
    "            if neighbor not in visited:\n",
    "                new_path = current_path + [neighbor]\n",
    "                pri_queue.put((heuristic[neighbor], new_path))\n",
    "\n",
    "    return []  # Goal not found\n",
    "\n",
    "G = nx.Graph()\n",
    "G.add_weighted_edges_from([('A', 'B', 5), ('B', 'C', 3), ('B', 'D', 2), ('C', 'E', 4), ('D', 'F', 6), ('E', 'G', 7)])\n",
    "\n",
    "# Define the heuristic function as a dictionary\n",
    "heuristic = {\n",
    "    'A': 2,\n",
    "    'B': 1,\n",
    "    'C': 3,\n",
    "    'D': 2,\n",
    "    'E': 4,\n",
    "    'F': 3,\n",
    "    'G': 5\n",
    "}\n",
    "\n",
    "choose_Algo = int(input(\"Enter the Search Algorithm (1 FOR BFS)(2 FOR DFS)(3 FOR BEST FS): \"))\n",
    "\n",
    "if (choose_Algo == 1):\n",
    "    start_node = input(\"Enter the Start Node: \")\n",
    "    goal_node = input(\"Enter the Goal Node: \")\n",
    "    path = bfs(G, start_node, goal_node)\n",
    "    \n",
    "    if path:\n",
    "        print(f\"BFS path from node {start_node} to node {goal_node}: {path}\")\n",
    "    else:\n",
    "        print(f\"No path found from node {start_node} to node {goal_node}.\")\n",
    "\n",
    "elif (choose_Algo == 2): \n",
    "    start_node = input(\"Enter the Start Node: \")\n",
    "    goal_node = input(\"Enter the Goal Node: \")\n",
    "    \n",
    "    path = dfs(G, start_node, goal_node)\n",
    "    \n",
    "    if path:\n",
    "        print(f\"DFS path from node {start_node} to node {goal_node}: {path}\")\n",
    "    else:\n",
    "        print(f\"No path found from node {start_node} to node {goal_node}.\")\n",
    "\n",
    "elif (choose_Algo == 3):\n",
    "    start_node = input(\"Enter the Start Node: \")\n",
    "    goal_node = input(\"Enter the Goal Node: \")\n",
    "   \n",
    "    path = best_first_search(G, start_node, goal_node, heuristic)\n",
    "    if path:\n",
    "        print(\"Path from {} to {} found: {}\".format(start_node, goal_node, ' -> '.join(path)))\n",
    "    else:\n",
    "        print(\"No path found from {} to {}\".format(start_node, goal_node))\n",
    "\n",
    "# Compute the layout of the graph\n",
    "pos = nx.spring_layout(G)\n",
    "\n",
    "# Draw the graph\n",
    "nx.draw(G, pos, with_labels=True, node_color='skyblue', node_size=1500, edge_color='k', linewidths=1, font_size=15)\n",
    "edge_labels = nx.get_edge_attributes(G, 'weight')\n",
    "nx.draw_networkx_edge_labels(G, pos, edge_labels=edge_labels)\n"
   ]
  },
  {
   "cell_type": "code",
   "execution_count": null,
   "id": "e9bc0754-f002-4756-9fa9-c38634d56abe",
   "metadata": {},
   "outputs": [],
   "source": []
  },
  {
   "cell_type": "code",
   "execution_count": null,
   "id": "07a7bcc6-9164-4de9-a44f-e8082a1dba5f",
   "metadata": {},
   "outputs": [],
   "source": []
  },
  {
   "cell_type": "code",
   "execution_count": null,
   "id": "0a04ef88-b480-4d99-ab8e-0cbb119c5419",
   "metadata": {},
   "outputs": [],
   "source": []
  }
 ],
 "metadata": {
  "kernelspec": {
   "display_name": "Python 3 (ipykernel)",
   "language": "python",
   "name": "python3"
  },
  "language_info": {
   "codemirror_mode": {
    "name": "ipython",
    "version": 3
   },
   "file_extension": ".py",
   "mimetype": "text/x-python",
   "name": "python",
   "nbconvert_exporter": "python",
   "pygments_lexer": "ipython3",
   "version": "3.10.12"
  }
 },
 "nbformat": 4,
 "nbformat_minor": 5
}
