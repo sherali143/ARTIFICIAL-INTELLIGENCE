{
 "cells": [
  {
   "cell_type": "code",
   "execution_count": null,
   "id": "3f4bfa31-b8f6-4370-b29e-92488765c771",
   "metadata": {},
   "outputs": [],
   "source": [
    "#NAME: SHER ALI\n",
    "#ROLL NO: P21-8024\n",
    "\n",
    "percept = ['smoke', 'high_temperature', 'normal']\n",
    "state = ['alarm_sounding', 'sprinkler_active', 'normal_state']\n",
    "rules = ['sound_alarm_and_activate_sprinkler', 'sound_alarm_and_call_fire_department', 'remain_in_normal_state']\n",
    "\n",
    "def getState(percept_value):\n",
    "    index = -1\n",
    "    for x in percept:\n",
    "        index += 1\n",
    "        if x == percept_value:\n",
    "            return state[index]\n",
    "\n",
    "def getRules(state_value):\n",
    "    index = -1\n",
    "    for i in state:\n",
    "        index += 1\n",
    "        if i == state_value:\n",
    "            return rules[index]\n",
    "\n",
    "def simpleReflexAgent(percep):\n",
    "    return getRules(getState(percep))\n",
    "\n",
    "\n",
    "alarm_count = 0\n",
    "while alarm_count < 10:\n",
    "    percept_input = input(\"What is the percept? (smoke/high_temperature/normal): \")\n",
    "    rule = simpleReflexAgent(percept_input)\n",
    "    print(rule)\n",
    "    alarm_count += 1\n"
   ]
  },
  {
   "cell_type": "code",
   "execution_count": 1,
   "id": "1e4e9eb0-ef11-4be6-a983-725d122603d0",
   "metadata": {},
   "outputs": [
    {
     "name": "stdin",
     "output_type": "stream",
     "text": [
      "What is the moisture level? (dry/moist/wet):  dry\n"
     ]
    },
    {
     "name": "stdout",
     "output_type": "stream",
     "text": [
      "activate watering system\n"
     ]
    },
    {
     "name": "stdin",
     "output_type": "stream",
     "text": [
      "What is the moisture level? (dry/moist/wet):  wet\n"
     ]
    },
    {
     "name": "stdout",
     "output_type": "stream",
     "text": [
      "deactivate watering system\n"
     ]
    }
   ],
   "source": [
    "percept = ['dry', 'moist', 'wet']\n",
    "state = ['dry_soil', 'moist_soil', 'wet_soil']\n",
    "rules = ['activate watering system', 'keep watering system off', 'deactivate watering system']\n",
    "\n",
    "def get_state(percept_value):\n",
    "    for index, x in enumerate(percept):\n",
    "        if x == percept_value:\n",
    "            return state[index]\n",
    "    return None\n",
    "\n",
    "def get_rule(state_value):\n",
    "    for index, i in enumerate(state):\n",
    "        if i == state_value:\n",
    "            return rules[index]\n",
    "    return None\n",
    "\n",
    "def simple_reflex_agent(percep):\n",
    "    state_value = get_state(percep)\n",
    "    if state_value:\n",
    "        return get_rule(state_value)\n",
    "    return \"No rule for this percept\"\n",
    "\n",
    "watering_cycles = 0\n",
    "while watering_cycles < 2:\n",
    "    moisture_level = input(\"What is the moisture level? (dry/moist/wet): \")\n",
    "    rule = simple_reflex_agent(moisture_level)\n",
    "    print(rule)\n",
    "    watering_cycles += 1\n"
   ]
  },
  {
   "cell_type": "code",
   "execution_count": null,
   "id": "4cce643a-219d-43be-af57-82e1f4fb015f",
   "metadata": {},
   "outputs": [],
   "source": []
  }
 ],
 "metadata": {
  "kernelspec": {
   "display_name": "Python 3 (ipykernel)",
   "language": "python",
   "name": "python3"
  },
  "language_info": {
   "codemirror_mode": {
    "name": "ipython",
    "version": 3
   },
   "file_extension": ".py",
   "mimetype": "text/x-python",
   "name": "python",
   "nbconvert_exporter": "python",
   "pygments_lexer": "ipython3",
   "version": "3.10.12"
  }
 },
 "nbformat": 4,
 "nbformat_minor": 5
}
